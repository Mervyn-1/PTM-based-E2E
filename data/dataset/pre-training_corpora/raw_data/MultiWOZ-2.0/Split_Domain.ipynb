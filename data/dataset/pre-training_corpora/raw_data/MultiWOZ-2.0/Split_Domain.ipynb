{
 "cells": [
  {
   "cell_type": "code",
   "execution_count": null,
   "metadata": {},
   "outputs": [],
   "source": [
    "import tqdm"
   ]
  },
  {
   "cell_type": "code",
   "execution_count": null,
   "metadata": {},
   "outputs": [],
   "source": [
    "def get_ds_diff(prev_d, crnt_d):\n",
    "    diff = {}\n",
    "    # Sometimes, metadata is an empty dictionary, bug?\n",
    "    if not prev_d or not crnt_d:\n",
    "        return diff\n",
    "\n",
    "    for ((k1, v1), (k2, v2)) in zip(prev_d.items(), crnt_d.items()):\n",
    "        assert k1 == k2\n",
    "        if v1 != v2: # updated\n",
    "            diff[k2] = v2\n",
    "    return diff"
   ]
  },
  {
   "cell_type": "code",
   "execution_count": null,
   "metadata": {},
   "outputs": [],
   "source": [
    "def is_ascii(s):\n",
    "    return all(ord(c) < 128 for c in s)"
   ]
  },
  {
   "cell_type": "code",
   "execution_count": null,
   "metadata": {},
   "outputs": [],
   "source": [
    "fin1 = open('data.json', 'r')\n",
    "data = json.load(fin1)\n",
    "\n",
    "DOMAINS = [\"taxi\", \"police\", \"restaurant\", \"hospital\", \"hotel\", \"attraction\", \"train\"]\n",
    "\n",
    "for dial_idx, dialogue_name in enumerate(tqdm(data)):\n",
    "    dialogue = data[dialogue_name]\n",
    "    \n",
    "    assert len(dialogue['log'])%2 == 0\n",
    "    \n",
    "    last_bs = {}\n",
    "    for idx, turn in enumerate(dialogue['log']):\n",
    "        if idx % 2 == 1:  # if it's a system turn\n",
    "            \n",
    "            cur_domain = getDomain(idx, dialogue['log'], domains, last_domain)\n",
    "            \n",
    "            if last_bs != turn[\"metadata\"]:\n",
    "                \n",
    "                if last_bs == {}:\n",
    "                    last_bs = turn[\"metadata\"]\n",
    "                    cur_domain\n",
    "                \n",
    "                for domain in DOMAINS:\n",
    "                    if turn[\"metadata\"][domain] != last_bs[domain]\n",
    "            else:\n",
    "            "
   ]
  }
 ],
 "metadata": {
  "kernelspec": {
   "display_name": "Python 3",
   "language": "python",
   "name": "python3"
  },
  "language_info": {
   "codemirror_mode": {
    "name": "ipython",
    "version": 3
   },
   "file_extension": ".py",
   "mimetype": "text/x-python",
   "name": "python",
   "nbconvert_exporter": "python",
   "pygments_lexer": "ipython3",
   "version": "3.6.8"
  }
 },
 "nbformat": 4,
 "nbformat_minor": 2
}
