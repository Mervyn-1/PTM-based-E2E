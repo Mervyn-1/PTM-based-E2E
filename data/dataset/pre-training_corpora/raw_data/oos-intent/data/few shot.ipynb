{
 "cells": [
  {
   "cell_type": "code",
   "execution_count": 1,
   "metadata": {},
   "outputs": [],
   "source": [
    "f = open(\"data_full.json\", \"r\")"
   ]
  },
  {
   "cell_type": "code",
   "execution_count": 2,
   "metadata": {},
   "outputs": [],
   "source": [
    "import json\n",
    "import random"
   ]
  },
  {
   "cell_type": "code",
   "execution_count": 3,
   "metadata": {},
   "outputs": [],
   "source": [
    "data = json.load(f)"
   ]
  },
  {
   "cell_type": "code",
   "execution_count": 4,
   "metadata": {},
   "outputs": [
    {
     "name": "stdout",
     "output_type": "stream",
     "text": [
      "oos_val 100\n",
      "val 3000\n",
      "train 15000\n",
      "oos_test 1000\n",
      "test 4500\n",
      "oos_train 100\n"
     ]
    }
   ],
   "source": [
    "for k, v in data.items():\n",
    "    print(k, len(v))"
   ]
  },
  {
   "cell_type": "code",
   "execution_count": 5,
   "metadata": {},
   "outputs": [],
   "source": [
    "random_seed = 0"
   ]
  },
  {
   "cell_type": "code",
   "execution_count": 9,
   "metadata": {},
   "outputs": [],
   "source": [
    "data_copy = dict(data)\n",
    "k_shot = 10\n",
    "\n",
    "class_count = {}\n",
    "new_data = []\n",
    "random.Random(random_seed).shuffle(data[\"train\"])\n",
    "for item in data[\"train\"]:\n",
    "    if item[1] not in class_count.keys():\n",
    "        class_count[item[1]] = 0\n",
    "    \n",
    "    if class_count[item[1]] < k_shot:\n",
    "        new_data.append(item)\n",
    "    \n",
    "    class_count[item[1]] += 1\n",
    "\n",
    "data_copy[\"train\"] = new_data\n",
    "random.Random(random_seed).shuffle(data[\"oos_train\"])\n",
    "data_copy[\"oos_train\"] = data[\"oos_train\"][:k_shot]\n"
   ]
  },
  {
   "cell_type": "code",
   "execution_count": 10,
   "metadata": {},
   "outputs": [
    {
     "name": "stdout",
     "output_type": "stream",
     "text": [
      "oos_val 100\n",
      "val 3000\n",
      "train 1500\n",
      "oos_test 1000\n",
      "test 4500\n",
      "oos_train 10\n"
     ]
    }
   ],
   "source": [
    "for k, v in data_copy.items():\n",
    "    print(k, len(v))"
   ]
  },
  {
   "cell_type": "code",
   "execution_count": 11,
   "metadata": {},
   "outputs": [],
   "source": [
    "json.dump(data_copy, open(\"data_ratio_{}_Seed{}.json\".format(k_shot, random_seed), \"w\"), indent=4)"
   ]
  },
  {
   "cell_type": "code",
   "execution_count": null,
   "metadata": {},
   "outputs": [],
   "source": []
  },
  {
   "cell_type": "code",
   "execution_count": null,
   "metadata": {},
   "outputs": [],
   "source": []
  }
 ],
 "metadata": {
  "kernelspec": {
   "display_name": "Python 3",
   "language": "python",
   "name": "python3"
  },
  "language_info": {
   "codemirror_mode": {
    "name": "ipython",
    "version": 3
   },
   "file_extension": ".py",
   "mimetype": "text/x-python",
   "name": "python",
   "nbconvert_exporter": "python",
   "pygments_lexer": "ipython3",
   "version": "3.6.9"
  }
 },
 "nbformat": 4,
 "nbformat_minor": 2
}
